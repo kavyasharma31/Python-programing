{
 "cells": [
  {
   "cell_type": "code",
   "execution_count": 1,
   "id": "d60dae04",
   "metadata": {},
   "outputs": [
    {
     "name": "stdout",
     "output_type": "stream",
     "text": [
      "Area: 50\n",
      "Perimeter: 30\n"
     ]
    }
   ],
   "source": [
    "class Rectangle:\n",
    "    def __init__(self, width, height):\n",
    "        self.width = width\n",
    "        self.height = height\n",
    "\n",
    "    def area(self):\n",
    "        return self.width * self.height\n",
    "\n",
    "    def perimeter(self):\n",
    "        return 2 * (self.width + self.height)\n",
    "\n",
    "#Test Case\n",
    "rect = Rectangle(5, 10)\n",
    "print(\"Area:\", rect.area())          \n",
    "print(\"Perimeter:\", rect.perimeter())  \n"
   ]
  },
  {
   "cell_type": "code",
   "execution_count": 2,
   "id": "884163d7",
   "metadata": {},
   "outputs": [
    {
     "name": "stdout",
     "output_type": "stream",
     "text": [
      "2\n",
      "1\n",
      "0\n"
     ]
    }
   ],
   "source": [
    "class Counter:\n",
    "    def __init__(self):\n",
    "        self.value = 0  \n",
    "\n",
    "    def increment(self):\n",
    "        self.value += 1 \n",
    "\n",
    "    def decrement(self):\n",
    "        self.value -= 1  \n",
    "\n",
    "    def reset(self):\n",
    "        self.value = 0  \n",
    "\n",
    "# Test Case\n",
    "counter = Counter()\n",
    "counter.increment()\n",
    "counter.increment()\n",
    "print(counter.value)  \n",
    "\n",
    "counter.decrement()\n",
    "print(counter.value)  \n",
    "\n",
    "counter.reset()\n",
    "print(counter.value) \n"
   ]
  }
 ],
 "metadata": {
  "kernelspec": {
   "display_name": "Python 3",
   "language": "python",
   "name": "python3"
  },
  "language_info": {
   "codemirror_mode": {
    "name": "ipython",
    "version": 3
   },
   "file_extension": ".py",
   "mimetype": "text/x-python",
   "name": "python",
   "nbconvert_exporter": "python",
   "pygments_lexer": "ipython3",
   "version": "3.13.3"
  }
 },
 "nbformat": 4,
 "nbformat_minor": 5
}
