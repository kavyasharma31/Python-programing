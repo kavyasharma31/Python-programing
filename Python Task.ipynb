{
 "cells": [
  {
   "cell_type": "code",
   "execution_count": 2,
   "id": "d6d589ae",
   "metadata": {},
   "outputs": [
    {
     "name": "stdout",
     "output_type": "stream",
     "text": [
      "12.5\n",
      "0\n"
     ]
    }
   ],
   "source": [
    "def calculate_average(numbers):\n",
    "    if not numbers:\n",
    "        return 0\n",
    "    return sum(numbers) / len(numbers)\n",
    "\n",
    "# Test Case\n",
    "print(calculate_average([5, 10, 15, 20]))  \n",
    "print(calculate_average([]))               "
   ]
  },
  {
   "cell_type": "code",
   "execution_count": 3,
   "id": "ee4dff36",
   "metadata": {},
   "outputs": [
    {
     "name": "stdout",
     "output_type": "stream",
     "text": [
      "Hello, Alice!\n",
      "Hi, Bob!\n"
     ]
    }
   ],
   "source": [
    "def greet_user(name, greeting=\"Hello\"):\n",
    "    return f\"{greeting}, {name}!\"\n",
    "\n",
    "# Test Case\n",
    "print(greet_user(\"Alice\"))          \n",
    "print(greet_user(\"Bob\", \"Hi\")) "
   ]
  },
  {
   "cell_type": "code",
   "execution_count": 4,
   "id": "38fecd62",
   "metadata": {},
   "outputs": [
    {
     "name": "stdout",
     "output_type": "stream",
     "text": [
      "60\n",
      "54.0\n"
     ]
    }
   ],
   "source": [
    "def calculate_total(*prices, discount=0):\n",
    "    total = sum(prices)\n",
    "    if discount:\n",
    "        total -= (total * discount / 100)\n",
    "    return total\n",
    "\n",
    "# Test Case\n",
    "print(calculate_total(10, 20, 30))                   \n",
    "print(calculate_total(10, 20, 30, discount=10))      "
   ]
  },
  {
   "cell_type": "code",
   "execution_count": 5,
   "id": "d1a509b7",
   "metadata": {},
   "outputs": [
    {
     "name": "stdout",
     "output_type": "stream",
     "text": [
      "10\n",
      "15\n"
     ]
    }
   ],
   "source": [
    "def create_multiplier(factor):\n",
    "    def multiplier(x):\n",
    "        return x * factor\n",
    "    return multiplier\n",
    "\n",
    "\n",
    "double = create_multiplier(2)\n",
    "triple = create_multiplier(3)\n",
    "\n",
    "# Test Case\n",
    "print(double(5))  \n",
    "print(triple(5))\n"
   ]
  },
  {
   "cell_type": "code",
   "execution_count": 6,
   "id": "1b246243",
   "metadata": {},
   "outputs": [
    {
     "name": "stdout",
     "output_type": "stream",
     "text": [
      "[2, 4, 6]\n",
      "[]\n"
     ]
    }
   ],
   "source": [
    "def filter_even_numbers(numbers):\n",
    "    return [num for num in numbers if num % 2 == 0]\n",
    "\n",
    "# Test Case\n",
    "print(filter_even_numbers([1, 2, 3, 4, 5, 6]))  \n",
    "print(filter_even_numbers([1, 3, 5]))          "
   ]
  },
  {
   "cell_type": "code",
   "execution_count": 7,
   "id": "f50c2ae8",
   "metadata": {},
   "outputs": [
    {
     "name": "stdout",
     "output_type": "stream",
     "text": [
      "[1, 2, 3, 4, 5, 6]\n",
      "[1, 2, 3, 4, 5, 6]\n"
     ]
    }
   ],
   "source": [
    "def merge_sorted_lists(list1, list2):\n",
    "    return sorted(list1 + list2)\n",
    "\n",
    "# Test Case\n",
    "print(merge_sorted_lists([1, 3, 5], [2, 4, 6]))  \n",
    "print(merge_sorted_lists([1, 2, 3], [4, 5, 6]))  \n"
   ]
  },
  {
   "cell_type": "code",
   "execution_count": 8,
   "id": "16b84de6",
   "metadata": {},
   "outputs": [
    {
     "name": "stdout",
     "output_type": "stream",
     "text": [
      "[[0, 0, 0], [0, 1, 2], [0, 2, 4]]\n"
     ]
    }
   ],
   "source": [
    "def generate_matrix(n, m):\n",
    "    return [[i * j for j in range(m)] for i in range(n)]\n",
    "\n",
    "# Test Case\n",
    "print(generate_matrix(3, 3))\n",
    "\n"
   ]
  },
  {
   "cell_type": "code",
   "execution_count": 9,
   "id": "600f636c",
   "metadata": {},
   "outputs": [
    {
     "name": "stdout",
     "output_type": "stream",
     "text": [
      "[[1, 4], [2, 5], [3, 6]]\n"
     ]
    }
   ],
   "source": [
    "def transpose_matrix(matrix):\n",
    "    return [[row[i] for row in matrix] for i in range(len(matrix[0]))]\n",
    "\n",
    "# Test Case\n",
    "matrix = [\n",
    "    [1, 2, 3],\n",
    "    [4, 5, 6]\n",
    "]\n",
    "print(transpose_matrix(matrix))\n"
   ]
  },
  {
   "cell_type": "code",
   "execution_count": 10,
   "id": "f45fcf2a",
   "metadata": {},
   "outputs": [
    {
     "name": "stdout",
     "output_type": "stream",
     "text": [
      "[4, 5, 1, 2, 3]\n",
      "[3, 1, 2]\n"
     ]
    }
   ],
   "source": [
    "def rotate_list(lst, k):\n",
    "    n = len(lst)\n",
    "    if n == 0:\n",
    "        return []\n",
    "    \n",
    "    k = k % n  \n",
    "    rotated = []\n",
    "    \n",
    "   \n",
    "    for i in range(n - k, n):\n",
    "        rotated.append(lst[i])\n",
    "    \n",
    "    \n",
    "    for i in range(n - k):\n",
    "        rotated.append(lst[i])\n",
    "    \n",
    "    return rotated\n",
    "\n",
    "# Test Case\n",
    "print(rotate_list([1, 2, 3, 4, 5], 2)) \n",
    "print(rotate_list([1, 2, 3], 4))        \n"
   ]
  },
  {
   "cell_type": "code",
   "execution_count": 12,
   "id": "069712fb",
   "metadata": {},
   "outputs": [
    {
     "name": "stdout",
     "output_type": "stream",
     "text": [
      "(2, 1, 4, 3)\n",
      "(2, 1, 3)\n"
     ]
    }
   ],
   "source": [
    "def swap_pairs(t):\n",
    "    swapped = []\n",
    "    i = 0\n",
    "    while i < len(t) - 1:\n",
    "        swapped.append(t[i + 1])\n",
    "        swapped.append(t[i])\n",
    "        i += 2\n",
    "    if i < len(t):\n",
    "        swapped.append(t[i])\n",
    "    return tuple(swapped)\n",
    "\n",
    "# Test Case\n",
    "print(swap_pairs((1, 2, 3, 4)))  \n",
    "print(swap_pairs((1, 2, 3)))     \n"
   ]
  },
  {
   "cell_type": "code",
   "execution_count": 15,
   "id": "86f25873",
   "metadata": {},
   "outputs": [
    {
     "name": "stdout",
     "output_type": "stream",
     "text": [
      "(1, 5, 15, 3.0)\n"
     ]
    }
   ],
   "source": [
    "def get_stats(numbers):\n",
    "    if not numbers:\n",
    "        return (None, None, 0, 0.0)\n",
    "    \n",
    "    min_num = min(numbers)\n",
    "    max_num = max(numbers)\n",
    "    total = sum(numbers)\n",
    "    avg = total / len(numbers)\n",
    "    \n",
    "    return (min_num, max_num, total, avg)\n",
    "\n",
    "# Test Case\n",
    "print(get_stats([1, 2, 3, 4, 5]))  \n"
   ]
  },
  {
   "cell_type": "code",
   "execution_count": 16,
   "id": "59a79851",
   "metadata": {},
   "outputs": [
    {
     "name": "stdout",
     "output_type": "stream",
     "text": [
      "Student(name='Charlie', age=21, grades=(90, 92, 93))\n"
     ]
    }
   ],
   "source": [
    "from collections import namedtuple\n",
    "\n",
    "Student = namedtuple('Student', ['name', 'age', 'grades'])\n",
    "\n",
    "def top_student(students):\n",
    "    return max(students, key=lambda student: sum(student.grades) / len(student.grades))\n",
    "\n",
    "# Test Case\n",
    "alice = Student(\"Alice\", 20, (85, 90, 95))\n",
    "bob = Student(\"Bob\", 19, (70, 80, 90))\n",
    "charlie = Student(\"Charlie\", 21, (90, 92, 93))\n",
    "\n",
    "print(top_student([alice, bob, charlie]))  \n"
   ]
  },
  {
   "cell_type": "code",
   "execution_count": 17,
   "id": "ca27d1cc",
   "metadata": {},
   "outputs": [
    {
     "name": "stdout",
     "output_type": "stream",
     "text": [
      "{(1, 2): 3, (3, 4): 2, (5, 6): 1}\n"
     ]
    }
   ],
   "source": [
    "def count_coordinate_occurrences(coords):\n",
    "    occurrence_dict = {}\n",
    "    for coord in coords:\n",
    "        if coord in occurrence_dict:\n",
    "            occurrence_dict[coord] += 1\n",
    "        else:\n",
    "            occurrence_dict[coord] = 1\n",
    "    return occurrence_dict\n",
    "\n",
    "# Test Case\n",
    "coords = [(1, 2), (3, 4), (1, 2), (5, 6), (3, 4), (1, 2)]\n",
    "print(count_coordinate_occurrences(coords))\n"
   ]
  },
  {
   "cell_type": "code",
   "execution_count": 18,
   "id": "6dd1e77c",
   "metadata": {},
   "outputs": [
    {
     "name": "stdout",
     "output_type": "stream",
     "text": [
      "{1: 'a', 2: 'b', 3: 'c'}\n"
     ]
    }
   ],
   "source": [
    "def invert_dictionary(d):\n",
    "    return {v: k for k, v in d.items()}\n",
    "\n",
    "# Test Case\n",
    "print(invert_dictionary({\"a\": 1, \"b\": 2, \"c\": 3})) \n"
   ]
  },
  {
   "cell_type": "code",
   "execution_count": 20,
   "id": "5a130bb0",
   "metadata": {},
   "outputs": [
    {
     "name": "stdout",
     "output_type": "stream",
     "text": [
      "{'a': 1, 'b': 3, 'c': 4}\n"
     ]
    }
   ],
   "source": [
    "def merge_dictionaries(dict1, dict2):\n",
    "    merged_dict = dict1.copy()  \n",
    "    merged_dict.update(dict2)   \n",
    "    return merged_dict\n",
    "\n",
    "# Test Case\n",
    "dict1 = {\"a\": 1, \"b\": 2}\n",
    "dict2 = {\"b\": 3, \"c\": 4}\n",
    "print(merge_dictionaries(dict1, dict2))  \n"
   ]
  },
  {
   "cell_type": "code",
   "execution_count": 21,
   "id": "a2194ed6",
   "metadata": {},
   "outputs": [
    {
     "name": "stdout",
     "output_type": "stream",
     "text": [
      "{'the': 2, 'quick': 1, 'brown': 1, 'fox': 1, 'jumps': 1, 'over': 1, 'lazy': 1, 'dog': 1}\n"
     ]
    }
   ],
   "source": [
    "def word_frequencies(text):\n",
    "    words = text.split()  \n",
    "    freq_dict = {}\n",
    "    \n",
    "    for word in words:\n",
    "        word = word.lower()  \n",
    "        if word in freq_dict:\n",
    "            freq_dict[word] += 1\n",
    "        else:\n",
    "            freq_dict[word] = 1\n",
    "    \n",
    "    return freq_dict\n",
    "\n",
    "# Test Case\n",
    "text = \"the quick brown fox jumps over the lazy dog\"\n",
    "print(word_frequencies(text))\n",
    "\n"
   ]
  },
  {
   "cell_type": "code",
   "execution_count": 22,
   "id": "a4f9155d",
   "metadata": {},
   "outputs": [
    {
     "name": "stdout",
     "output_type": "stream",
     "text": [
      "{'Alice': {'phone': '123-456-7890', 'email': 'alice@example.com', 'address': '123 Main St'}, 'Bob': {'phone': '987-654-3210'}}\n"
     ]
    }
   ],
   "source": [
    "def add_contact(contact_book, name, **details):\n",
    "    if name in contact_book:\n",
    "        contact_book[name].update(details)  \n",
    "    else:\n",
    "        contact_book[name] = details  \n",
    "\n",
    "# Test Case\n",
    "contacts = {}\n",
    "add_contact(contacts, \"Alice\", phone=\"123-456-7890\", email=\"alice@example.com\")\n",
    "add_contact(contacts, \"Bob\", phone=\"987-654-3210\")\n",
    "add_contact(contacts, \"Alice\", address=\"123 Main St\")  \n",
    "\n",
    "print(contacts)\n",
    "\n"
   ]
  },
  {
   "cell_type": "code",
   "execution_count": null,
   "id": "80245efe",
   "metadata": {},
   "outputs": [],
   "source": []
  }
 ],
 "metadata": {
  "kernelspec": {
   "display_name": "Python 3",
   "language": "python",
   "name": "python3"
  },
  "language_info": {
   "codemirror_mode": {
    "name": "ipython",
    "version": 3
   },
   "file_extension": ".py",
   "mimetype": "text/x-python",
   "name": "python",
   "nbconvert_exporter": "python",
   "pygments_lexer": "ipython3",
   "version": "3.13.3"
  }
 },
 "nbformat": 4,
 "nbformat_minor": 5
}
