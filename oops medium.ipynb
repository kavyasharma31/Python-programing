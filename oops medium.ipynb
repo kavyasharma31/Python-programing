{
 "cells": [
  {
   "cell_type": "code",
   "execution_count": 2,
   "id": "f19c76d0",
   "metadata": {},
   "outputs": [
    {
     "name": "stdout",
     "output_type": "stream",
     "text": [
      "Toyota\n",
      "4\n"
     ]
    }
   ],
   "source": [
    "# Base class\n",
    "class Vehicle:\n",
    "    def __init__(self, make, model, year):\n",
    "        self.make = make\n",
    "        self.model = model\n",
    "        self.year = year\n",
    "\n",
    "# Subclass\n",
    "class Car(Vehicle):\n",
    "    def __init__(self, make, model, year, doors, fuel_type):\n",
    "        super().__init__(make, model, year)  # Call the base class constructor\n",
    "        self.doors = doors\n",
    "        self.fuel_type = fuel_type\n",
    "\n",
    "# Test Case\n",
    "car = Car(\"Toyota\", \"Corolla\", 2020, 4, \"Gasoline\")\n",
    "print(car.make)   \n",
    "print(car.doors) \n"
   ]
  },
  {
   "cell_type": "code",
   "execution_count": 4,
   "id": "367c7595",
   "metadata": {},
   "outputs": [
    {
     "name": "stdout",
     "output_type": "stream",
     "text": [
      "1000\n",
      "1500\n",
      "1300\n",
      "123456\n",
      "2000\n",
      "1300\n"
     ]
    }
   ],
   "source": [
    "class BankAccount:\n",
    "    def __init__(self, account_number, balance):\n",
    "        self.__account_number = account_number  \n",
    "        self.__balance = balance  \n",
    "\n",
    "    def deposit(self, amount):\n",
    "        if amount > 0:\n",
    "            self.__balance += amount\n",
    "\n",
    "    def withdraw(self, amount):\n",
    "        if 0 < amount <= self.__balance:\n",
    "            self.__balance -= amount\n",
    "\n",
    "    def get_balance(self):\n",
    "        return self.__balance\n",
    "\n",
    "    def get_account_number(self):\n",
    "        return self.__account_number\n",
    "\n",
    "# Test Case\n",
    "account = BankAccount(\"123456\", 1000)\n",
    "print(account.get_balance())       \n",
    "account.deposit(500)\n",
    "print(account.get_balance())        \n",
    "account.withdraw(200)\n",
    "print(account.get_balance())        \n",
    "print(account.get_account_number())\n",
    "\n",
    "try:\n",
    "    account.__balance = 2000  \n",
    "    print(account.__balance)  \n",
    "    print(account.get_balance()) \n",
    "except AttributeError:\n",
    "    print(\"Cannot directly access private atribute\")\n"
   ]
  }
 ],
 "metadata": {
  "kernelspec": {
   "display_name": "Python 3",
   "language": "python",
   "name": "python3"
  },
  "language_info": {
   "codemirror_mode": {
    "name": "ipython",
    "version": 3
   },
   "file_extension": ".py",
   "mimetype": "text/x-python",
   "name": "python",
   "nbconvert_exporter": "python",
   "pygments_lexer": "ipython3",
   "version": "3.13.3"
  }
 },
 "nbformat": 4,
 "nbformat_minor": 5
}
